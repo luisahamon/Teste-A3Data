{
  "nbformat": 4,
  "nbformat_minor": 0,
  "metadata": {
    "colab": {
      "provenance": []
    },
    "kernelspec": {
      "name": "python3",
      "display_name": "Python 3"
    },
    "language_info": {
      "name": "python"
    }
  },
  "cells": [
    {
      "cell_type": "markdown",
      "source": [
        "#**Problema**"
      ],
      "metadata": {
        "id": "A5oHKaMz56V7"
      }
    },
    {
      "cell_type": "markdown",
      "source": [
        "A empresa de telecomunicações contratou a A3Data para avaliar o cenário de\n",
        "churn elevado dos seus clientes e, uma vez que estamos falando de um produto\n",
        "com custo elevado de setup (instalação), a empresa gostaria de uma estratégia\n",
        "para reduzir esse churn."
      ],
      "metadata": {
        "id": "yDtEtCtz56tp"
      }
    },
    {
      "cell_type": "markdown",
      "source": [
        "#**Passo 1: Explorar os dados**\n",
        "\n",
        "\n",
        "---\n",
        "\n"
      ],
      "metadata": {
        "id": "4CsUo6ge6Grn"
      }
    },
    {
      "cell_type": "markdown",
      "source": [
        "Primeiramente vamos ver com que dados estamos lidando, quais os tipos das colunas e que informações temos no dataset"
      ],
      "metadata": {
        "id": "m0Mhcrc_6UsE"
      }
    },
    {
      "cell_type": "code",
      "execution_count": 51,
      "metadata": {
        "colab": {
          "base_uri": "https://localhost:8080/",
          "height": 360
        },
        "id": "tF6H4C4t5wOa",
        "outputId": "a48a3b3b-d167-413f-a38e-1c57f3bf6a0b"
      },
      "outputs": [
        {
          "output_type": "stream",
          "name": "stdout",
          "text": [
            "Drive already mounted at /content/drive; to attempt to forcibly remount, call drive.mount(\"/content/drive\", force_remount=True).\n"
          ]
        },
        {
          "output_type": "execute_result",
          "data": {
            "text/plain": [
              "   customerID  gender  SeniorCitizen Partner Dependents  tenure PhoneService  \\\n",
              "0  7569-NMZYQ  Female              0     Yes        Yes      72          Yes   \n",
              "1  8984-HPEMB  Female              0      No         No      71          Yes   \n",
              "2  5989-AXPUC  Female              0     Yes         No      68          Yes   \n",
              "3  5734-EJKXG  Female              0      No         No      61          Yes   \n",
              "4  8199-ZLLSA    Male              0      No         No      67          Yes   \n",
              "\n",
              "  MultipleLines InternetService OnlineSecurity  ... DeviceProtection  \\\n",
              "0           Yes     Fiber optic            Yes  ...              Yes   \n",
              "1           Yes     Fiber optic            Yes  ...              Yes   \n",
              "2           Yes     Fiber optic            Yes  ...              Yes   \n",
              "3           Yes     Fiber optic            Yes  ...              Yes   \n",
              "4           Yes     Fiber optic            Yes  ...              Yes   \n",
              "\n",
              "  TechSupport StreamingTV StreamingMovies  Contract PaperlessBilling  \\\n",
              "0         Yes         Yes             Yes  Two year              Yes   \n",
              "1         Yes         Yes             Yes  Two year              Yes   \n",
              "2         Yes         Yes             Yes  Two year               No   \n",
              "3         Yes         Yes             Yes  One year              Yes   \n",
              "4         Yes         Yes             Yes  One year              Yes   \n",
              "\n",
              "               PaymentMethod MonthlyCharges TotalCharges Churn  \n",
              "0  Bank transfer (automatic)         118,75      8672,45    No  \n",
              "1           Electronic check         118,65       8477,6    No  \n",
              "2               Mailed check          118,6      7990,05    No  \n",
              "3           Electronic check          118,6       7365,7    No  \n",
              "4  Bank transfer (automatic)         118,35      7804,15   Yes  \n",
              "\n",
              "[5 rows x 21 columns]"
            ],
            "text/html": [
              "\n",
              "  <div id=\"df-0b273a5f-e108-4c08-9214-964758feb448\" class=\"colab-df-container\">\n",
              "    <div>\n",
              "<style scoped>\n",
              "    .dataframe tbody tr th:only-of-type {\n",
              "        vertical-align: middle;\n",
              "    }\n",
              "\n",
              "    .dataframe tbody tr th {\n",
              "        vertical-align: top;\n",
              "    }\n",
              "\n",
              "    .dataframe thead th {\n",
              "        text-align: right;\n",
              "    }\n",
              "</style>\n",
              "<table border=\"1\" class=\"dataframe\">\n",
              "  <thead>\n",
              "    <tr style=\"text-align: right;\">\n",
              "      <th></th>\n",
              "      <th>customerID</th>\n",
              "      <th>gender</th>\n",
              "      <th>SeniorCitizen</th>\n",
              "      <th>Partner</th>\n",
              "      <th>Dependents</th>\n",
              "      <th>tenure</th>\n",
              "      <th>PhoneService</th>\n",
              "      <th>MultipleLines</th>\n",
              "      <th>InternetService</th>\n",
              "      <th>OnlineSecurity</th>\n",
              "      <th>...</th>\n",
              "      <th>DeviceProtection</th>\n",
              "      <th>TechSupport</th>\n",
              "      <th>StreamingTV</th>\n",
              "      <th>StreamingMovies</th>\n",
              "      <th>Contract</th>\n",
              "      <th>PaperlessBilling</th>\n",
              "      <th>PaymentMethod</th>\n",
              "      <th>MonthlyCharges</th>\n",
              "      <th>TotalCharges</th>\n",
              "      <th>Churn</th>\n",
              "    </tr>\n",
              "  </thead>\n",
              "  <tbody>\n",
              "    <tr>\n",
              "      <th>0</th>\n",
              "      <td>7569-NMZYQ</td>\n",
              "      <td>Female</td>\n",
              "      <td>0</td>\n",
              "      <td>Yes</td>\n",
              "      <td>Yes</td>\n",
              "      <td>72</td>\n",
              "      <td>Yes</td>\n",
              "      <td>Yes</td>\n",
              "      <td>Fiber optic</td>\n",
              "      <td>Yes</td>\n",
              "      <td>...</td>\n",
              "      <td>Yes</td>\n",
              "      <td>Yes</td>\n",
              "      <td>Yes</td>\n",
              "      <td>Yes</td>\n",
              "      <td>Two year</td>\n",
              "      <td>Yes</td>\n",
              "      <td>Bank transfer (automatic)</td>\n",
              "      <td>118,75</td>\n",
              "      <td>8672,45</td>\n",
              "      <td>No</td>\n",
              "    </tr>\n",
              "    <tr>\n",
              "      <th>1</th>\n",
              "      <td>8984-HPEMB</td>\n",
              "      <td>Female</td>\n",
              "      <td>0</td>\n",
              "      <td>No</td>\n",
              "      <td>No</td>\n",
              "      <td>71</td>\n",
              "      <td>Yes</td>\n",
              "      <td>Yes</td>\n",
              "      <td>Fiber optic</td>\n",
              "      <td>Yes</td>\n",
              "      <td>...</td>\n",
              "      <td>Yes</td>\n",
              "      <td>Yes</td>\n",
              "      <td>Yes</td>\n",
              "      <td>Yes</td>\n",
              "      <td>Two year</td>\n",
              "      <td>Yes</td>\n",
              "      <td>Electronic check</td>\n",
              "      <td>118,65</td>\n",
              "      <td>8477,6</td>\n",
              "      <td>No</td>\n",
              "    </tr>\n",
              "    <tr>\n",
              "      <th>2</th>\n",
              "      <td>5989-AXPUC</td>\n",
              "      <td>Female</td>\n",
              "      <td>0</td>\n",
              "      <td>Yes</td>\n",
              "      <td>No</td>\n",
              "      <td>68</td>\n",
              "      <td>Yes</td>\n",
              "      <td>Yes</td>\n",
              "      <td>Fiber optic</td>\n",
              "      <td>Yes</td>\n",
              "      <td>...</td>\n",
              "      <td>Yes</td>\n",
              "      <td>Yes</td>\n",
              "      <td>Yes</td>\n",
              "      <td>Yes</td>\n",
              "      <td>Two year</td>\n",
              "      <td>No</td>\n",
              "      <td>Mailed check</td>\n",
              "      <td>118,6</td>\n",
              "      <td>7990,05</td>\n",
              "      <td>No</td>\n",
              "    </tr>\n",
              "    <tr>\n",
              "      <th>3</th>\n",
              "      <td>5734-EJKXG</td>\n",
              "      <td>Female</td>\n",
              "      <td>0</td>\n",
              "      <td>No</td>\n",
              "      <td>No</td>\n",
              "      <td>61</td>\n",
              "      <td>Yes</td>\n",
              "      <td>Yes</td>\n",
              "      <td>Fiber optic</td>\n",
              "      <td>Yes</td>\n",
              "      <td>...</td>\n",
              "      <td>Yes</td>\n",
              "      <td>Yes</td>\n",
              "      <td>Yes</td>\n",
              "      <td>Yes</td>\n",
              "      <td>One year</td>\n",
              "      <td>Yes</td>\n",
              "      <td>Electronic check</td>\n",
              "      <td>118,6</td>\n",
              "      <td>7365,7</td>\n",
              "      <td>No</td>\n",
              "    </tr>\n",
              "    <tr>\n",
              "      <th>4</th>\n",
              "      <td>8199-ZLLSA</td>\n",
              "      <td>Male</td>\n",
              "      <td>0</td>\n",
              "      <td>No</td>\n",
              "      <td>No</td>\n",
              "      <td>67</td>\n",
              "      <td>Yes</td>\n",
              "      <td>Yes</td>\n",
              "      <td>Fiber optic</td>\n",
              "      <td>Yes</td>\n",
              "      <td>...</td>\n",
              "      <td>Yes</td>\n",
              "      <td>Yes</td>\n",
              "      <td>Yes</td>\n",
              "      <td>Yes</td>\n",
              "      <td>One year</td>\n",
              "      <td>Yes</td>\n",
              "      <td>Bank transfer (automatic)</td>\n",
              "      <td>118,35</td>\n",
              "      <td>7804,15</td>\n",
              "      <td>Yes</td>\n",
              "    </tr>\n",
              "  </tbody>\n",
              "</table>\n",
              "<p>5 rows × 21 columns</p>\n",
              "</div>\n",
              "    <div class=\"colab-df-buttons\">\n",
              "\n",
              "  <div class=\"colab-df-container\">\n",
              "    <button class=\"colab-df-convert\" onclick=\"convertToInteractive('df-0b273a5f-e108-4c08-9214-964758feb448')\"\n",
              "            title=\"Convert this dataframe to an interactive table.\"\n",
              "            style=\"display:none;\">\n",
              "\n",
              "  <svg xmlns=\"http://www.w3.org/2000/svg\" height=\"24px\" viewBox=\"0 -960 960 960\">\n",
              "    <path d=\"M120-120v-720h720v720H120Zm60-500h600v-160H180v160Zm220 220h160v-160H400v160Zm0 220h160v-160H400v160ZM180-400h160v-160H180v160Zm440 0h160v-160H620v160ZM180-180h160v-160H180v160Zm440 0h160v-160H620v160Z\"/>\n",
              "  </svg>\n",
              "    </button>\n",
              "\n",
              "  <style>\n",
              "    .colab-df-container {\n",
              "      display:flex;\n",
              "      gap: 12px;\n",
              "    }\n",
              "\n",
              "    .colab-df-convert {\n",
              "      background-color: #E8F0FE;\n",
              "      border: none;\n",
              "      border-radius: 50%;\n",
              "      cursor: pointer;\n",
              "      display: none;\n",
              "      fill: #1967D2;\n",
              "      height: 32px;\n",
              "      padding: 0 0 0 0;\n",
              "      width: 32px;\n",
              "    }\n",
              "\n",
              "    .colab-df-convert:hover {\n",
              "      background-color: #E2EBFA;\n",
              "      box-shadow: 0px 1px 2px rgba(60, 64, 67, 0.3), 0px 1px 3px 1px rgba(60, 64, 67, 0.15);\n",
              "      fill: #174EA6;\n",
              "    }\n",
              "\n",
              "    .colab-df-buttons div {\n",
              "      margin-bottom: 4px;\n",
              "    }\n",
              "\n",
              "    [theme=dark] .colab-df-convert {\n",
              "      background-color: #3B4455;\n",
              "      fill: #D2E3FC;\n",
              "    }\n",
              "\n",
              "    [theme=dark] .colab-df-convert:hover {\n",
              "      background-color: #434B5C;\n",
              "      box-shadow: 0px 1px 3px 1px rgba(0, 0, 0, 0.15);\n",
              "      filter: drop-shadow(0px 1px 2px rgba(0, 0, 0, 0.3));\n",
              "      fill: #FFFFFF;\n",
              "    }\n",
              "  </style>\n",
              "\n",
              "    <script>\n",
              "      const buttonEl =\n",
              "        document.querySelector('#df-0b273a5f-e108-4c08-9214-964758feb448 button.colab-df-convert');\n",
              "      buttonEl.style.display =\n",
              "        google.colab.kernel.accessAllowed ? 'block' : 'none';\n",
              "\n",
              "      async function convertToInteractive(key) {\n",
              "        const element = document.querySelector('#df-0b273a5f-e108-4c08-9214-964758feb448');\n",
              "        const dataTable =\n",
              "          await google.colab.kernel.invokeFunction('convertToInteractive',\n",
              "                                                    [key], {});\n",
              "        if (!dataTable) return;\n",
              "\n",
              "        const docLinkHtml = 'Like what you see? Visit the ' +\n",
              "          '<a target=\"_blank\" href=https://colab.research.google.com/notebooks/data_table.ipynb>data table notebook</a>'\n",
              "          + ' to learn more about interactive tables.';\n",
              "        element.innerHTML = '';\n",
              "        dataTable['output_type'] = 'display_data';\n",
              "        await google.colab.output.renderOutput(dataTable, element);\n",
              "        const docLink = document.createElement('div');\n",
              "        docLink.innerHTML = docLinkHtml;\n",
              "        element.appendChild(docLink);\n",
              "      }\n",
              "    </script>\n",
              "  </div>\n",
              "\n",
              "\n",
              "<div id=\"df-3336be86-0bc7-4a73-9357-1223e6edfd6b\">\n",
              "  <button class=\"colab-df-quickchart\" onclick=\"quickchart('df-3336be86-0bc7-4a73-9357-1223e6edfd6b')\"\n",
              "            title=\"Suggest charts\"\n",
              "            style=\"display:none;\">\n",
              "\n",
              "<svg xmlns=\"http://www.w3.org/2000/svg\" height=\"24px\"viewBox=\"0 0 24 24\"\n",
              "     width=\"24px\">\n",
              "    <g>\n",
              "        <path d=\"M19 3H5c-1.1 0-2 .9-2 2v14c0 1.1.9 2 2 2h14c1.1 0 2-.9 2-2V5c0-1.1-.9-2-2-2zM9 17H7v-7h2v7zm4 0h-2V7h2v10zm4 0h-2v-4h2v4z\"/>\n",
              "    </g>\n",
              "</svg>\n",
              "  </button>\n",
              "\n",
              "<style>\n",
              "  .colab-df-quickchart {\n",
              "      --bg-color: #E8F0FE;\n",
              "      --fill-color: #1967D2;\n",
              "      --hover-bg-color: #E2EBFA;\n",
              "      --hover-fill-color: #174EA6;\n",
              "      --disabled-fill-color: #AAA;\n",
              "      --disabled-bg-color: #DDD;\n",
              "  }\n",
              "\n",
              "  [theme=dark] .colab-df-quickchart {\n",
              "      --bg-color: #3B4455;\n",
              "      --fill-color: #D2E3FC;\n",
              "      --hover-bg-color: #434B5C;\n",
              "      --hover-fill-color: #FFFFFF;\n",
              "      --disabled-bg-color: #3B4455;\n",
              "      --disabled-fill-color: #666;\n",
              "  }\n",
              "\n",
              "  .colab-df-quickchart {\n",
              "    background-color: var(--bg-color);\n",
              "    border: none;\n",
              "    border-radius: 50%;\n",
              "    cursor: pointer;\n",
              "    display: none;\n",
              "    fill: var(--fill-color);\n",
              "    height: 32px;\n",
              "    padding: 0;\n",
              "    width: 32px;\n",
              "  }\n",
              "\n",
              "  .colab-df-quickchart:hover {\n",
              "    background-color: var(--hover-bg-color);\n",
              "    box-shadow: 0 1px 2px rgba(60, 64, 67, 0.3), 0 1px 3px 1px rgba(60, 64, 67, 0.15);\n",
              "    fill: var(--button-hover-fill-color);\n",
              "  }\n",
              "\n",
              "  .colab-df-quickchart-complete:disabled,\n",
              "  .colab-df-quickchart-complete:disabled:hover {\n",
              "    background-color: var(--disabled-bg-color);\n",
              "    fill: var(--disabled-fill-color);\n",
              "    box-shadow: none;\n",
              "  }\n",
              "\n",
              "  .colab-df-spinner {\n",
              "    border: 2px solid var(--fill-color);\n",
              "    border-color: transparent;\n",
              "    border-bottom-color: var(--fill-color);\n",
              "    animation:\n",
              "      spin 1s steps(1) infinite;\n",
              "  }\n",
              "\n",
              "  @keyframes spin {\n",
              "    0% {\n",
              "      border-color: transparent;\n",
              "      border-bottom-color: var(--fill-color);\n",
              "      border-left-color: var(--fill-color);\n",
              "    }\n",
              "    20% {\n",
              "      border-color: transparent;\n",
              "      border-left-color: var(--fill-color);\n",
              "      border-top-color: var(--fill-color);\n",
              "    }\n",
              "    30% {\n",
              "      border-color: transparent;\n",
              "      border-left-color: var(--fill-color);\n",
              "      border-top-color: var(--fill-color);\n",
              "      border-right-color: var(--fill-color);\n",
              "    }\n",
              "    40% {\n",
              "      border-color: transparent;\n",
              "      border-right-color: var(--fill-color);\n",
              "      border-top-color: var(--fill-color);\n",
              "    }\n",
              "    60% {\n",
              "      border-color: transparent;\n",
              "      border-right-color: var(--fill-color);\n",
              "    }\n",
              "    80% {\n",
              "      border-color: transparent;\n",
              "      border-right-color: var(--fill-color);\n",
              "      border-bottom-color: var(--fill-color);\n",
              "    }\n",
              "    90% {\n",
              "      border-color: transparent;\n",
              "      border-bottom-color: var(--fill-color);\n",
              "    }\n",
              "  }\n",
              "</style>\n",
              "\n",
              "  <script>\n",
              "    async function quickchart(key) {\n",
              "      const quickchartButtonEl =\n",
              "        document.querySelector('#' + key + ' button');\n",
              "      quickchartButtonEl.disabled = true;  // To prevent multiple clicks.\n",
              "      quickchartButtonEl.classList.add('colab-df-spinner');\n",
              "      try {\n",
              "        const charts = await google.colab.kernel.invokeFunction(\n",
              "            'suggestCharts', [key], {});\n",
              "      } catch (error) {\n",
              "        console.error('Error during call to suggestCharts:', error);\n",
              "      }\n",
              "      quickchartButtonEl.classList.remove('colab-df-spinner');\n",
              "      quickchartButtonEl.classList.add('colab-df-quickchart-complete');\n",
              "    }\n",
              "    (() => {\n",
              "      let quickchartButtonEl =\n",
              "        document.querySelector('#df-3336be86-0bc7-4a73-9357-1223e6edfd6b button');\n",
              "      quickchartButtonEl.style.display =\n",
              "        google.colab.kernel.accessAllowed ? 'block' : 'none';\n",
              "    })();\n",
              "  </script>\n",
              "</div>\n",
              "\n",
              "    </div>\n",
              "  </div>\n"
            ],
            "application/vnd.google.colaboratory.intrinsic+json": {
              "type": "dataframe",
              "variable_name": "df"
            }
          },
          "metadata": {},
          "execution_count": 51
        }
      ],
      "source": [
        "#Importação das bibliotecas\n",
        "import pandas as pd\n",
        "import matplotlib.pyplot as plt\n",
        "import seaborn as sns\n",
        "from google.colab import drive\n",
        "\n",
        "# Montar o Google Drive\n",
        "drive.mount('/content/drive')\n",
        "\n",
        "#Importar os dados\n",
        "df = pd.read_csv('/content/drive/MyDrive/Customer-Churn - Customer-Churn.csv')\n",
        "\n",
        "#visualizar as primeiras linhas\n",
        "df.head()"
      ]
    },
    {
      "cell_type": "code",
      "source": [
        "df.info()"
      ],
      "metadata": {
        "colab": {
          "base_uri": "https://localhost:8080/"
        },
        "id": "Y7XvCz2E73ww",
        "outputId": "b73cc178-6545-4623-87b4-b025ce625c59"
      },
      "execution_count": 52,
      "outputs": [
        {
          "output_type": "stream",
          "name": "stdout",
          "text": [
            "<class 'pandas.core.frame.DataFrame'>\n",
            "RangeIndex: 7043 entries, 0 to 7042\n",
            "Data columns (total 21 columns):\n",
            " #   Column            Non-Null Count  Dtype \n",
            "---  ------            --------------  ----- \n",
            " 0   customerID        7043 non-null   object\n",
            " 1   gender            7043 non-null   object\n",
            " 2   SeniorCitizen     7043 non-null   int64 \n",
            " 3   Partner           7043 non-null   object\n",
            " 4   Dependents        7043 non-null   object\n",
            " 5   tenure            7043 non-null   int64 \n",
            " 6   PhoneService      7043 non-null   object\n",
            " 7   MultipleLines     7043 non-null   object\n",
            " 8   InternetService   7043 non-null   object\n",
            " 9   OnlineSecurity    7043 non-null   object\n",
            " 10  OnlineBackup      7043 non-null   object\n",
            " 11  DeviceProtection  7043 non-null   object\n",
            " 12  TechSupport       7043 non-null   object\n",
            " 13  StreamingTV       7043 non-null   object\n",
            " 14  StreamingMovies   7043 non-null   object\n",
            " 15  Contract          7043 non-null   object\n",
            " 16  PaperlessBilling  7043 non-null   object\n",
            " 17  PaymentMethod     7043 non-null   object\n",
            " 18  MonthlyCharges    7043 non-null   object\n",
            " 19  TotalCharges      7032 non-null   object\n",
            " 20  Churn             7043 non-null   object\n",
            "dtypes: int64(2), object(19)\n",
            "memory usage: 1.1+ MB\n"
          ]
        }
      ]
    },
    {
      "cell_type": "markdown",
      "source": [
        "O dataset tem 21 colunas e quase todas estão completas com exceção da TotalCharges que possui 11 dados faltantes e essa quantidade não é relevante para o número de dados"
      ],
      "metadata": {
        "id": "z_oeB9oC8ADp"
      }
    },
    {
      "cell_type": "code",
      "source": [
        "# Remover a coluna customerID\n",
        "df.drop(columns=['customerID'], inplace=True)\n",
        "\n",
        "# Tratar dados faltantes na coluna TotalCharges\n",
        "# Converter TotalCharges para numérico, forçando erros a NaN e, em seguida, preenchendo NaN com a média da coluna\n",
        "df['TotalCharges'] = pd.to_numeric(df['TotalCharges'], errors='coerce')\n",
        "df['TotalCharges'].fillna(df['TotalCharges'].mean(), inplace=True)"
      ],
      "metadata": {
        "id": "81-xX1IbZ3KB"
      },
      "execution_count": 53,
      "outputs": []
    },
    {
      "cell_type": "markdown",
      "source": [
        "#**Testando Hipótese 1**"
      ],
      "metadata": {
        "id": "f4Cx0o6l8T0a"
      }
    },
    {
      "cell_type": "markdown",
      "source": [
        "Meu primeiro passo será verificar o percentual de churn dessa base de clientes, para isso vou usar a coluna \"Churn\". Minha hipotese é que tenhamos um percentual alto de churn"
      ],
      "metadata": {
        "id": "gqKs48lf8ZHV"
      }
    },
    {
      "cell_type": "code",
      "source": [
        "total_customers = df.shape[0]\n",
        "print(f'Total de clientes: {total_customers}')\n",
        "\n",
        "churn_customers = df[df['Churn'] == 'Yes'].shape[0]\n",
        "print(f'Clientes com Churn: {churn_customers}')\n",
        "\n",
        "churn_percentage = (churn_customers / total_customers) * 100\n",
        "print(f'Percentual de Churn: {churn_percentage:.2f}%')"
      ],
      "metadata": {
        "colab": {
          "base_uri": "https://localhost:8080/"
        },
        "id": "_DWqs9wp775D",
        "outputId": "04e4c92e-f2e2-4f8e-82fb-22855c1a0e45"
      },
      "execution_count": 54,
      "outputs": [
        {
          "output_type": "stream",
          "name": "stdout",
          "text": [
            "Total de clientes: 7043\n",
            "Clientes com Churn: 1869\n",
            "Percentual de Churn: 26.54%\n"
          ]
        }
      ]
    },
    {
      "cell_type": "markdown",
      "source": [
        "Tivemos 1869 clientes com churn o que representa 26,54% da base analisada. É um número considerável de clientes e precisamos analisar o que tem levado a esses cancelamentos de serviço."
      ],
      "metadata": {
        "id": "7oBjcmnz9TPk"
      }
    },
    {
      "cell_type": "markdown",
      "source": [
        "#**Testando Hipótese 2**\n",
        "\n",
        "\n",
        "---\n",
        "\n"
      ],
      "metadata": {
        "id": "cUxZ0n209yfB"
      }
    },
    {
      "cell_type": "markdown",
      "source": [
        "Agora quero descobrir o perfil de quem está cancelando o serviço."
      ],
      "metadata": {
        "id": "4qpAqqT993KG"
      }
    },
    {
      "cell_type": "markdown",
      "source": [
        "##**Qual o gênero das pessoas**"
      ],
      "metadata": {
        "id": "l-vHwSFU-C0U"
      }
    },
    {
      "cell_type": "code",
      "source": [
        "#Contagem de valores na coluna gênero\n",
        "print(df['gender'].value_counts())\n",
        "print('---------'*20)\n",
        "\n",
        "#Visualizar quantas pessoas em cada gênero cancelaram o serviço\n",
        "churn_gender = df.groupby('gender')['Churn'].value_counts()\n",
        "print(churn_gender)"
      ],
      "metadata": {
        "colab": {
          "base_uri": "https://localhost:8080/"
        },
        "id": "sKpSXypB9xNo",
        "outputId": "185c6f21-d608-48e8-bb23-9a807dcdb9fd"
      },
      "execution_count": 55,
      "outputs": [
        {
          "output_type": "stream",
          "name": "stdout",
          "text": [
            "gender\n",
            "Male      3555\n",
            "Female    3488\n",
            "Name: count, dtype: int64\n",
            "------------------------------------------------------------------------------------------------------------------------------------------------------------------------------------\n",
            "gender  Churn\n",
            "Female  No       2549\n",
            "        Yes       939\n",
            "Male    No       2625\n",
            "        Yes       930\n",
            "Name: count, dtype: int64\n"
          ]
        }
      ]
    },
    {
      "cell_type": "code",
      "source": [
        "# Criar um gráfico de barras para visualizar os dados\n",
        "churn_gender.plot(kind='bar', stacked=True, color=['blue', 'red'], figsize=(10, 6))\n",
        "\n",
        "# Adicionar títulos e rótulos aos eixos\n",
        "plt.title('Cancelamentos de Serviço por Gênero')\n",
        "plt.xlabel('Gênero')\n",
        "plt.ylabel('Contagem')\n",
        "plt.legend(title='Churn')\n",
        "plt.show()"
      ],
      "metadata": {
        "colab": {
          "base_uri": "https://localhost:8080/",
          "height": 643
        },
        "id": "HR6niuxC_cdC",
        "outputId": "d9be1bf6-0f4f-4503-b291-c5544572e7fb"
      },
      "execution_count": 56,
      "outputs": [
        {
          "output_type": "display_data",
          "data": {
            "text/plain": [
              "<Figure size 1000x600 with 1 Axes>"
            ],
            "image/png": "[encoded data removed]"
          },
          "metadata": {}
        }
      ]
    },
    {
      "cell_type": "markdown",
      "source": [
        "O conjunto está equilibrado em relação ao gênero das pessoas e de acordo com os números o gênero não afeta significativamente o cancelamento de serviço"
      ],
      "metadata": {
        "id": "kvwX80Bp-0Gw"
      }
    },
    {
      "cell_type": "markdown",
      "source": [
        "##Pessoas idosas"
      ],
      "metadata": {
        "id": "UuFW04ziwu9e"
      }
    },
    {
      "cell_type": "code",
      "source": [
        "df['SeniorCitizen'].value_counts()"
      ],
      "metadata": {
        "colab": {
          "base_uri": "https://localhost:8080/"
        },
        "id": "kurJI5J9wzIU",
        "outputId": "36d3f2ac-d6bb-42ba-9734-09fff4cf4666"
      },
      "execution_count": 57,
      "outputs": [
        {
          "output_type": "execute_result",
          "data": {
            "text/plain": [
              "SeniorCitizen\n",
              "0    5901\n",
              "1    1142\n",
              "Name: count, dtype: int64"
            ]
          },
          "metadata": {},
          "execution_count": 57
        }
      ]
    },
    {
      "cell_type": "markdown",
      "source": [
        "Essa variável presenta se a pessoa é idosa (1) ou não (0), podemos testar se isso tem relação com os cancelamentos"
      ],
      "metadata": {
        "id": "ibGw0AZLw3Bv"
      }
    },
    {
      "cell_type": "code",
      "source": [
        "# Analisar churn por idade\n",
        "idoso = df[df['SeniorCitizen'] == 1]\n",
        "print('Idosos:')\n",
        "idoso_churn_counts = idoso['Churn'].value_counts()\n",
        "total_idoso = idoso_churn_counts.sum()\n",
        "idoso_percentual_churn = ((idoso_churn_counts / total_idoso) * 100).round(2)\n",
        "print(idoso_churn_counts)\n",
        "print(f'Percentual de churn em idosos:\\n{idoso_percentual_churn}\\n')\n",
        "print('------'*20)\n",
        "nao_idoso = df[df['SeniorCitizen'] == 0]\n",
        "print('Não idosos:')\n",
        "nao_idoso_churn_counts = nao_idoso['Churn'].value_counts()\n",
        "total_nao_idoso = nao_idoso_churn_counts.sum()\n",
        "nao_idoso_percentual_churn = ((nao_idoso_churn_counts / total_nao_idoso) * 100).round(2)\n",
        "print(nao_idoso_churn_counts)\n",
        "print(f'Percentual de churn em não idosos:\\n{nao_idoso_percentual_churn}\\n')"
      ],
      "metadata": {
        "colab": {
          "base_uri": "https://localhost:8080/"
        },
        "id": "Rhr8Onw7xFXy",
        "outputId": "726783f2-313d-4f5d-aa27-7e4cf79f1049"
      },
      "execution_count": 58,
      "outputs": [
        {
          "output_type": "stream",
          "name": "stdout",
          "text": [
            "Idosos:\n",
            "Churn\n",
            "No     666\n",
            "Yes    476\n",
            "Name: count, dtype: int64\n",
            "Percentual de churn em idosos:\n",
            "Churn\n",
            "No     58.32\n",
            "Yes    41.68\n",
            "Name: count, dtype: float64\n",
            "\n",
            "------------------------------------------------------------------------------------------------------------------------\n",
            "Não idosos:\n",
            "Churn\n",
            "No     4508\n",
            "Yes    1393\n",
            "Name: count, dtype: int64\n",
            "Percentual de churn em não idosos:\n",
            "Churn\n",
            "No     76.39\n",
            "Yes    23.61\n",
            "Name: count, dtype: float64\n",
            "\n"
          ]
        }
      ]
    },
    {
      "cell_type": "markdown",
      "source": [
        "A idade influencia no cancelamento sendo que entre os idosos 41,68% dos clientes cancelaram já entre os não idosos o cancelamento foi de 23,6%"
      ],
      "metadata": {
        "id": "dSnFOSPByP-h"
      }
    },
    {
      "cell_type": "markdown",
      "source": [
        "##Cancelamentos e Existência de dependentes"
      ],
      "metadata": {
        "id": "eF38-3jjnCvS"
      }
    },
    {
      "cell_type": "markdown",
      "source": [
        "Para continuar estudando o perfil dos cancelamentos vou verificar se quem cancelou possui dependentes ou não.\n",
        "\n",
        "Explicação: podemos pensar por dois lados, a presença de dependentes aponta para maiores gastos familiares, por outro lado, os dependentes podem impulsionar o uso dos serviços como streaming de TV e de filmes"
      ],
      "metadata": {
        "id": "dktXzFTInJvL"
      }
    },
    {
      "cell_type": "code",
      "source": [
        "#Cruzar a informação de cancelamentos e a existência de dependentes\n",
        "churn_dependents = df.groupby('Dependents')['Churn'].value_counts()\n",
        "print(churn_dependents)"
      ],
      "metadata": {
        "colab": {
          "base_uri": "https://localhost:8080/"
        },
        "id": "FpDzze3sn3Bz",
        "outputId": "b5446b3e-490a-4f09-b073-21616c6d79f0"
      },
      "execution_count": 59,
      "outputs": [
        {
          "output_type": "stream",
          "name": "stdout",
          "text": [
            "Dependents  Churn\n",
            "No          No       3390\n",
            "            Yes      1543\n",
            "Yes         No       1784\n",
            "            Yes       326\n",
            "Name: count, dtype: int64\n"
          ]
        }
      ]
    },
    {
      "cell_type": "code",
      "source": [
        "# Criar um gráfico de barras para visualizar os dados\n",
        "churn_dependents.plot(kind='bar', stacked=True, color=['blue', 'red'], figsize=(10, 6))\n",
        "\n",
        "# Adicionar títulos e rótulos aos eixos\n",
        "plt.title('Cancelamentos de Serviço por Dependentes')\n",
        "plt.xlabel('Presença de dependentes')\n",
        "plt.ylabel('Contagem')\n",
        "plt.legend(title='Churn')\n",
        "plt.show()"
      ],
      "metadata": {
        "colab": {
          "base_uri": "https://localhost:8080/",
          "height": 614
        },
        "id": "f4vFcHzCr1ZD",
        "outputId": "8e4fe0ac-b18c-45f8-f728-68e019babf8f"
      },
      "execution_count": 60,
      "outputs": [
        {
          "output_type": "display_data",
          "data": {
            "text/plain": [
              "<Figure size 1000x600 with 1 Axes>"
            ],
            "image/png": "[encoded data removed]"
          },
          "metadata": {}
        }
      ]
    },
    {
      "cell_type": "markdown",
      "source": [
        "Olhando para os números analisamos que a presença de dependentes tende a diminuir o percentual de churn\n",
        "\n",
        "Sem dependentes = 31,28% de cancelamento\n",
        "\n",
        "Com dependentes = 15,45% de cancelamento\n",
        "\n",
        "Logo, pode-se concluir que a presença de dependentes afeta negativamente o número de cancelamentos."
      ],
      "metadata": {
        "id": "WG4EBIx8ox24"
      }
    },
    {
      "cell_type": "markdown",
      "source": [
        "#**Hipótese 3: Serviços Contratados**\n",
        "\n",
        "---\n",
        "\n"
      ],
      "metadata": {
        "id": "uSjcA3JmAqur"
      }
    },
    {
      "cell_type": "markdown",
      "source": [
        "Agora vou testar a quantidade de serviços contratados por quem realizou o cancelamento e por quem não realizou, minha hipótese é que o cancelamento seja maior entre clientes que não contrataram tantos serviços"
      ],
      "metadata": {
        "id": "upuTZ1DfA2sZ"
      }
    },
    {
      "cell_type": "code",
      "source": [
        "services = ['PhoneService', 'InternetService', 'OnlineSecurity', 'OnlineBackup', 'DeviceProtection', 'StreamingTV', 'StreamingMovies']\n",
        "df['NumServices'] = df[services].apply(lambda x: x == 'Yes').sum(axis=1)\n",
        "\n",
        "#Obter as médias de serviços contratos em cada grupo\n",
        "churn_services = df[df['Churn'] == 'Yes']['NumServices'].mean()\n",
        "non_churn_services = df[df['Churn'] == 'No']['NumServices'].mean()\n",
        "\n",
        "print(f'Número médio de serviços - Churn: {churn_services:.2f}')\n",
        "print(f'Número médio de serviços - Não Churn: {non_churn_services:.2f}')"
      ],
      "metadata": {
        "colab": {
          "base_uri": "https://localhost:8080/"
        },
        "id": "TS6BxSYt-qhR",
        "outputId": "ad3bcfe1-f4e9-4dc3-dee5-817c74db4e96"
      },
      "execution_count": 61,
      "outputs": [
        {
          "output_type": "stream",
          "name": "stdout",
          "text": [
            "Número médio de serviços - Churn: 2.51\n",
            "Número médio de serviços - Não Churn: 2.70\n"
          ]
        }
      ]
    },
    {
      "cell_type": "code",
      "source": [
        "#Analisar cada serviço separadamente\n",
        "# Função para calcular e imprimir o percentual de cancelamento de um serviço\n",
        "def calcular_percentual_cancelamento(servico):\n",
        "    churn_counts = df[df[servico] == 'Yes']['Churn'].value_counts()\n",
        "    total = churn_counts.sum()\n",
        "    if 'Yes' in churn_counts:\n",
        "        percentual = (churn_counts['Yes'] / total) * 100\n",
        "    else:\n",
        "        percentual = 0.0\n",
        "    print('-------------'*20)\n",
        "    print(f'Usuários de {servico.lower().replace(\"_\", \" \")}: {churn_counts}')\n",
        "    print(f'Percentual de cancelamento de {servico.lower().replace(\"_\", \" \")}: {percentual:.2f}%\\n')\n",
        "    return percentual\n",
        "\n",
        "# Telefone\n",
        "percentual_phone = calcular_percentual_cancelamento('PhoneService')\n",
        "\n",
        "# Segurança online\n",
        "percentual_online_security = calcular_percentual_cancelamento('OnlineSecurity')\n",
        "\n",
        "# Backup online\n",
        "percentual_online_backup = calcular_percentual_cancelamento('OnlineBackup')\n",
        "\n",
        "# Proteção de dispositivo\n",
        "percentual_device_protection = calcular_percentual_cancelamento('DeviceProtection')\n",
        "\n",
        "# TV streaming\n",
        "percentual_streaming_tv = calcular_percentual_cancelamento('StreamingTV')\n",
        "\n",
        "# Movies streaming\n",
        "percentual_streaming_movies = calcular_percentual_cancelamento('StreamingMovies')"
      ],
      "metadata": {
        "id": "VS20HTC5YpBN",
        "colab": {
          "base_uri": "https://localhost:8080/"
        },
        "outputId": "de60010e-b270-4de0-bab4-0f070033f880"
      },
      "execution_count": 62,
      "outputs": [
        {
          "output_type": "stream",
          "name": "stdout",
          "text": [
            "--------------------------------------------------------------------------------------------------------------------------------------------------------------------------------------------------------------------------------------------------------------------\n",
            "Usuários de phoneservice: Churn\n",
            "No     4662\n",
            "Yes    1699\n",
            "Name: count, dtype: int64\n",
            "Percentual de cancelamento de phoneservice: 26.71%\n",
            "\n",
            "--------------------------------------------------------------------------------------------------------------------------------------------------------------------------------------------------------------------------------------------------------------------\n",
            "Usuários de onlinesecurity: Churn\n",
            "No     1724\n",
            "Yes     295\n",
            "Name: count, dtype: int64\n",
            "Percentual de cancelamento de onlinesecurity: 14.61%\n",
            "\n",
            "--------------------------------------------------------------------------------------------------------------------------------------------------------------------------------------------------------------------------------------------------------------------\n",
            "Usuários de onlinebackup: Churn\n",
            "No     1906\n",
            "Yes     523\n",
            "Name: count, dtype: int64\n",
            "Percentual de cancelamento de onlinebackup: 21.53%\n",
            "\n",
            "--------------------------------------------------------------------------------------------------------------------------------------------------------------------------------------------------------------------------------------------------------------------\n",
            "Usuários de deviceprotection: Churn\n",
            "No     1877\n",
            "Yes     545\n",
            "Name: count, dtype: int64\n",
            "Percentual de cancelamento de deviceprotection: 22.50%\n",
            "\n",
            "--------------------------------------------------------------------------------------------------------------------------------------------------------------------------------------------------------------------------------------------------------------------\n",
            "Usuários de streamingtv: Churn\n",
            "No     1893\n",
            "Yes     814\n",
            "Name: count, dtype: int64\n",
            "Percentual de cancelamento de streamingtv: 30.07%\n",
            "\n",
            "--------------------------------------------------------------------------------------------------------------------------------------------------------------------------------------------------------------------------------------------------------------------\n",
            "Usuários de streamingmovies: Churn\n",
            "No     1914\n",
            "Yes     818\n",
            "Name: count, dtype: int64\n",
            "Percentual de cancelamento de streamingmovies: 29.94%\n",
            "\n"
          ]
        }
      ]
    },
    {
      "cell_type": "code",
      "source": [
        "# Guardar os percentuais em uma lista\n",
        "servicos = ['PhoneService', 'OnlineSecurity', 'OnlineBackup', 'DeviceProtection', 'StreamingTV', 'StreamingMovies']\n",
        "percentuais = [\n",
        "    percentual_phone,\n",
        "    percentual_online_security,\n",
        "    percentual_online_backup,\n",
        "    percentual_device_protection,\n",
        "    percentual_streaming_tv,\n",
        "    percentual_streaming_movies\n",
        "]\n",
        "\n",
        "# Cores para o gráfico de barras\n",
        "cores = ['purple', 'orange', 'blue', 'green', 'red', 'cyan']\n",
        "\n",
        "# Criar um gráfico de barras com os percentuais de cancelamento\n",
        "plt.figure(figsize=(10, 6))\n",
        "plt.bar(servicos, percentuais, color=cores)\n",
        "plt.title('Percentual de Cancelamento por Serviço')\n",
        "plt.xlabel('Serviço')\n",
        "plt.ylabel('Percentual de Cancelamento (%)')\n",
        "plt.xticks(rotation=45)\n",
        "plt.ylim(0, 100)\n",
        "plt.show()"
      ],
      "metadata": {
        "colab": {
          "base_uri": "https://localhost:8080/",
          "height": 645
        },
        "id": "SrAP-4WYinFP",
        "outputId": "99ad7fe1-9c75-4d85-fd03-a8b846359097"
      },
      "execution_count": 63,
      "outputs": [
        {
          "output_type": "display_data",
          "data": {
            "text/plain": [
              "<Figure size 1000x600 with 1 Axes>"
            ],
            "image/png": "[encoded data removed]"
          },
          "metadata": {}
        }
      ]
    },
    {
      "cell_type": "markdown",
      "source": [
        "Com base nessa análise temos uma classificação de quais serviços tem mais e quais tem menos churn"
      ],
      "metadata": {
        "id": "LDS_sDfEgUGK"
      }
    },
    {
      "cell_type": "markdown",
      "source": [
        "O maior percentual de cancelamentos está no streaming de TV, mostrano que esse é um serviço mais crítico com aproximadamente 30% de cancelamentos seguido por streaming de filmes (29,94%) e serviço de telefone (26,71%)"
      ],
      "metadata": {
        "id": "UOzn1ygHgg8y"
      }
    },
    {
      "cell_type": "markdown",
      "source": [
        "##Tipo de internet e relação com cancelamento"
      ],
      "metadata": {
        "id": "pe61wn0skuJL"
      }
    },
    {
      "cell_type": "code",
      "source": [
        "tipo_internet = df['InternetService'].value_counts()\n",
        "print(tipo_internet)"
      ],
      "metadata": {
        "colab": {
          "base_uri": "https://localhost:8080/"
        },
        "id": "XAmPMFKGkt6p",
        "outputId": "a0b5965d-8c9c-4e5c-f02a-d74cf0f9b4cf"
      },
      "execution_count": 64,
      "outputs": [
        {
          "output_type": "stream",
          "name": "stdout",
          "text": [
            "InternetService\n",
            "Fiber optic    3096\n",
            "DSL            2421\n",
            "No             1526\n",
            "Name: count, dtype: int64\n"
          ]
        }
      ]
    },
    {
      "cell_type": "code",
      "source": [
        "#Relacionar o tipo de internet com o cancelamento e exibir os percentuais\n",
        "churn_internet = df.groupby('InternetService')['Churn'].value_counts()\n",
        "percentual_churn_internet = (churn_internet.groupby(level=0).apply(lambda x: x / x.sum() * 100)).round(2)\n",
        "print(percentual_churn_internet)"
      ],
      "metadata": {
        "colab": {
          "base_uri": "https://localhost:8080/"
        },
        "id": "NT8UP4CHeLFb",
        "outputId": "c6d01dd4-4f85-45ac-c33a-7a2f16616c76"
      },
      "execution_count": 65,
      "outputs": [
        {
          "output_type": "stream",
          "name": "stdout",
          "text": [
            "InternetService  InternetService  Churn\n",
            "DSL              DSL              No       81.04\n",
            "                                  Yes      18.96\n",
            "Fiber optic      Fiber optic      No       58.11\n",
            "                                  Yes      41.89\n",
            "No               No               No       92.60\n",
            "                                  Yes       7.40\n",
            "Name: count, dtype: float64\n"
          ]
        }
      ]
    },
    {
      "cell_type": "markdown",
      "source": [
        "Entre os serviços de internet a fibra ótica tem o maior número de cancelamento, boa parte dos clientes desse serviço cancelou (41,89%)"
      ],
      "metadata": {
        "id": "7ZFoKOMflNST"
      }
    },
    {
      "cell_type": "markdown",
      "source": [
        "#**Hipótese 3: Cancelamentos ocorrem com quem tem menos tempo de contrato**\n",
        "-------------------------------"
      ],
      "metadata": {
        "id": "Jw2EFX8EsR4f"
      }
    },
    {
      "cell_type": "markdown",
      "source": [
        "Agora vou analisar e quantidade de cancelasmento por tempo de contrato. Minha hipótese é que o percentual de churn diminua conforme o tempo de serviço aumenta"
      ],
      "metadata": {
        "id": "ySgRAgcbscvx"
      }
    },
    {
      "cell_type": "code",
      "source": [
        "#Quantidade de clientes por tempo de contratação\n",
        "contrato = df['Contract'].value_counts()\n",
        "print(contrato)"
      ],
      "metadata": {
        "colab": {
          "base_uri": "https://localhost:8080/"
        },
        "id": "FiQMI-gHlILf",
        "outputId": "5e34ce6c-1c7d-4925-f67d-3b8d00ae9c1d"
      },
      "execution_count": 66,
      "outputs": [
        {
          "output_type": "stream",
          "name": "stdout",
          "text": [
            "Contract\n",
            "Month-to-month    3875\n",
            "Two year          1695\n",
            "One year          1473\n",
            "Name: count, dtype: int64\n"
          ]
        }
      ]
    },
    {
      "cell_type": "code",
      "source": [
        "#Cancelamentos e percentual em cada período de contrato\n",
        "churn_por_periodo = df.groupby('Contract')['Churn'].value_counts().unstack().fillna(0)\n",
        "percentual_churn_periodo = (churn_por_periodo.div(churn_por_periodo.sum(axis=1), axis=0) * 100).round(2)\n",
        "print(percentual_churn_periodo)"
      ],
      "metadata": {
        "colab": {
          "base_uri": "https://localhost:8080/"
        },
        "id": "UMnlzhVluHrA",
        "outputId": "333f4a62-8ea4-470a-ffa7-4d520734abfa"
      },
      "execution_count": 67,
      "outputs": [
        {
          "output_type": "stream",
          "name": "stdout",
          "text": [
            "Churn              No    Yes\n",
            "Contract                    \n",
            "Month-to-month  57.29  42.71\n",
            "One year        88.73  11.27\n",
            "Two year        97.17   2.83\n"
          ]
        }
      ]
    },
    {
      "cell_type": "code",
      "source": [
        "# Preparar dados para o gráfico\n",
        "labels = churn_por_periodo.index.tolist()\n",
        "no_churn = percentual_churn_periodo['No'].tolist()\n",
        "yes_churn = percentual_churn_periodo['Yes'].tolist()\n",
        "\n",
        "# Configurar o gráfico de barras\n",
        "x = range(len(labels))\n",
        "width = 0.4\n",
        "\n",
        "fig, ax = plt.subplots(figsize=(10, 6))\n",
        "ax.bar(x, no_churn, width, label='No Churn', color='blue')\n",
        "ax.bar([p + width for p in x], yes_churn, width, label='Yes Churn', color='red')\n",
        "\n",
        "# Adicionar detalhes ao gráfico\n",
        "ax.set_xlabel('Tipo de Contrato')\n",
        "ax.set_ylabel('Percentual')\n",
        "ax.set_title('Percentual de Cancelamento por Tipo de Contrato')\n",
        "ax.set_xticks([p + width / 2 for p in x])\n",
        "ax.set_xticklabels(labels)\n",
        "ax.legend()\n",
        "\n",
        "plt.show()"
      ],
      "metadata": {
        "colab": {
          "base_uri": "https://localhost:8080/",
          "height": 564
        },
        "id": "af8qioaxzekc",
        "outputId": "20e30dc2-535b-4f49-8d7d-e784fa2ca5ab"
      },
      "execution_count": 68,
      "outputs": [
        {
          "output_type": "display_data",
          "data": {
            "text/plain": [
              "<Figure size 1000x600 with 1 Axes>"
            ],
            "image/png": "[encoded data removed]"
          },
          "metadata": {}
        }
      ]
    },
    {
      "cell_type": "markdown",
      "source": [
        "Olhando para essa análise podemos concluir que o percentual de churn diminui conforme o tempo de contrato aumenta."
      ],
      "metadata": {
        "id": "HqfLyY5rvUFN"
      }
    },
    {
      "cell_type": "markdown",
      "source": [
        "#**Hipótese 4: Os clientes entram em contato com suporte técnico antes de cancelar**\n",
        "--------------------------------"
      ],
      "metadata": {
        "id": "ZebiZpOjpM1a"
      }
    },
    {
      "cell_type": "code",
      "source": [
        "# Agrupar os dados por churn e suporte técnico\n",
        "contato_com_suporte = df.groupby(['Churn', 'TechSupport']).size().unstack(fill_value=0)\n",
        "\n",
        "# Calcular os percentuais\n",
        "percentual_suporte = (contato_com_suporte.div(contato_com_suporte.sum(axis=1), axis=0) * 100).round(2)\n",
        "\n",
        "# Exibir os dados\n",
        "print('Contagem de contato com suporte técnico:')\n",
        "print(contato_com_suporte)\n",
        "print('\\nPercentual de contato com suporte técnico:')\n",
        "print(percentual_suporte)"
      ],
      "metadata": {
        "colab": {
          "base_uri": "https://localhost:8080/"
        },
        "id": "aaEw5FqqoZvZ",
        "outputId": "b14d40b9-b3e8-4c77-cd6a-d7dee9a49f97"
      },
      "execution_count": 69,
      "outputs": [
        {
          "output_type": "stream",
          "name": "stdout",
          "text": [
            "Contagem de contato com suporte técnico:\n",
            "TechSupport    No  No internet service   Yes\n",
            "Churn                                       \n",
            "No           2027                 1413  1734\n",
            "Yes          1446                  113   310\n",
            "\n",
            "Percentual de contato com suporte técnico:\n",
            "TechSupport     No  No internet service    Yes\n",
            "Churn                                         \n",
            "No           39.18                27.31  33.51\n",
            "Yes          77.37                 6.05  16.59\n"
          ]
        }
      ]
    },
    {
      "cell_type": "code",
      "source": [
        "#Preparar dados para visualização\n",
        "labels = contato_com_suporte.columns.tolist()\n",
        "no_churn = percentual_suporte.loc['No'].tolist()\n",
        "yes_churn = percentual_suporte.loc['Yes'].tolist()\n",
        "\n",
        "# Configurar o gráfico de barras\n",
        "x = range(len(labels))\n",
        "width = 0.4\n",
        "\n",
        "fig, ax = plt.subplots(figsize=(10, 6))\n",
        "ax.bar(x, no_churn, width, label='No Churn', color='blue')\n",
        "ax.bar([p + width for p in x], yes_churn, width, label='Yes Churn', color='red')\n",
        "\n",
        "# Adicionar detalhes ao gráfico\n",
        "ax.set_xlabel('Suporte Técnico')\n",
        "ax.set_ylabel('Percentual')\n",
        "ax.set_title('Percentual de Churn por Contato com Suporte Técnico')\n",
        "ax.set_xticks([p + width / 2 for p in x])\n",
        "ax.set_xticklabels(labels)\n",
        "ax.legend()\n",
        "\n",
        "plt.show()"
      ],
      "metadata": {
        "colab": {
          "base_uri": "https://localhost:8080/",
          "height": 565
        },
        "id": "keTL8nlx3b6q",
        "outputId": "d305d4c7-e082-407c-f512-c785b950072c"
      },
      "execution_count": 70,
      "outputs": [
        {
          "output_type": "display_data",
          "data": {
            "text/plain": [
              "<Figure size 1000x600 with 1 Axes>"
            ],
            "image/png": "[encoded data removed]"
          },
          "metadata": {}
        }
      ]
    },
    {
      "cell_type": "markdown",
      "source": [
        "Como podemos ver o maior grupo de cancelamentos é entre clientes que não procuraram nenhum suporte técnico, o que anula a hipótese inicial."
      ],
      "metadata": {
        "id": "VQo5t4Qw3tiT"
      }
    },
    {
      "cell_type": "markdown",
      "source": [
        "#**Hipótese 5: avaliar as cobranças de quem cancelou e quem não cancelou**\n",
        "-----------------------------"
      ],
      "metadata": {
        "id": "shnJOebz9Inz"
      }
    },
    {
      "cell_type": "markdown",
      "source": [
        "Aqui quero ver como é o comportamento de cobrança entre quem cancelou e quem não cancelou, minha hipótese é que quem cancelou esteja pagando mais do que o outro grupo"
      ],
      "metadata": {
        "id": "FFburVwB9YwK"
      }
    },
    {
      "cell_type": "code",
      "source": [
        "# Remover vírgulas e converter para inteiros\n",
        "df['MonthlyCharges'] = df['MonthlyCharges'].str.replace(',', '').astype(int)\n",
        "\n",
        "#Contar as cobranças de churn e não churn\n",
        "cobranca_churn = df[df['Churn'] == 'Yes']['MonthlyCharges'].mean()\n",
        "cobranca_nao_churn = df[df['Churn'] == 'No']['MonthlyCharges'].mean()\n",
        "\n",
        "print(f'Cobrança média de churn: {cobranca_churn:.2f}')\n",
        "print(f'Cobrança média de não churn: {cobranca_nao_churn:.2f}')"
      ],
      "metadata": {
        "colab": {
          "base_uri": "https://localhost:8080/"
        },
        "id": "MSklTqSb9qa9",
        "outputId": "540f8fd6-8aa3-46b6-da89-e1798b5ffd0d"
      },
      "execution_count": 71,
      "outputs": [
        {
          "output_type": "stream",
          "name": "stdout",
          "text": [
            "Cobrança média de churn: 4078.39\n",
            "Cobrança média de não churn: 3314.81\n"
          ]
        }
      ]
    },
    {
      "cell_type": "markdown",
      "source": [
        "Como a hipótese em média os clientes que cancelaram pagam mais do que quem não cancelou"
      ],
      "metadata": {
        "id": "5if_xjml-rwY"
      }
    },
    {
      "cell_type": "markdown",
      "source": [
        "#**Análise de Correlação**\n",
        "---------------"
      ],
      "metadata": {
        "id": "_Oc6-RuuWFlg"
      }
    },
    {
      "cell_type": "code",
      "source": [
        "# Converter a coluna Churn para valores numéricos\n",
        "df['Churn'] = df['Churn'].map({'Yes': 1, 'No': 0})\n",
        "\n",
        "# Converter colunas categóricas em numéricas utilizando one-hot encoding\n",
        "df_encoded = pd.get_dummies(df, drop_first=True)\n",
        "\n",
        "# Calcular a correlação de todas as variáveis com Churn\n",
        "correlation_with_churn = df_encoded.corr()['Churn'].sort_values(ascending=False)\n",
        "\n",
        "# Exibir as correlações\n",
        "print(correlation_with_churn)"
      ],
      "metadata": {
        "colab": {
          "base_uri": "https://localhost:8080/"
        },
        "id": "Yb_UUbZ0V7hc",
        "outputId": "c8f9c2c9-9e34-4c32-c9a7-1497197bc5e7"
      },
      "execution_count": 72,
      "outputs": [
        {
          "output_type": "stream",
          "name": "stdout",
          "text": [
            "Churn                                    1.000000\n",
            "InternetService_Fiber optic              0.308020\n",
            "PaymentMethod_Electronic check           0.301919\n",
            "PaperlessBilling_Yes                     0.191825\n",
            "SeniorCitizen                            0.150889\n",
            "MonthlyCharges                           0.092756\n",
            "StreamingTV_Yes                          0.063228\n",
            "StreamingMovies_Yes                      0.061382\n",
            "MultipleLines_Yes                        0.040102\n",
            "PhoneService_Yes                         0.011942\n",
            "gender_Male                             -0.008612\n",
            "MultipleLines_No phone service          -0.011942\n",
            "TotalCharges                            -0.040395\n",
            "NumServices                             -0.052382\n",
            "DeviceProtection_Yes                    -0.066160\n",
            "OnlineBackup_Yes                        -0.082255\n",
            "PaymentMethod_Mailed check              -0.091683\n",
            "PaymentMethod_Credit card (automatic)   -0.134302\n",
            "Partner_Yes                             -0.150448\n",
            "Dependents_Yes                          -0.164221\n",
            "TechSupport_Yes                         -0.164674\n",
            "OnlineSecurity_Yes                      -0.171226\n",
            "Contract_One year                       -0.177820\n",
            "DeviceProtection_No internet service    -0.227890\n",
            "TechSupport_No internet service         -0.227890\n",
            "StreamingTV_No internet service         -0.227890\n",
            "OnlineSecurity_No internet service      -0.227890\n",
            "StreamingMovies_No internet service     -0.227890\n",
            "InternetService_No                      -0.227890\n",
            "OnlineBackup_No internet service        -0.227890\n",
            "Contract_Two year                       -0.302253\n",
            "tenure                                  -0.352229\n",
            "Name: Churn, dtype: float64\n"
          ]
        }
      ]
    },
    {
      "cell_type": "markdown",
      "source": [
        "A análise de correlação confirmou alguns pontos tratados até aqui:\n",
        "\n",
        "* InternetService_Fiber optic (0.308020): Clientes que usam fibra óptica\n",
        "têm maior probabilidade de cancelamento.\n",
        "* SeniorCitizen (0.150889): Clientes idosos têm maior probabilidade de cancelar.\n",
        "* MonthlyCharges (0.092756): Maiores cobranças mensais estão ligeiramente associadas a uma maior probabilidade de cancelamento.\n",
        "* Contract_Two year (-0.302253): Clientes com contrato de dois anos têm menor probabilidade de cancelar.\n",
        "* TechSupport_Yes (-0.164674): Clientes com suporte técnico têm menor probabilidade de cancelar.\n",
        "* Dependents_Yes (-0.164221): Clientes com dependentes têm menor probabilidade de cancelar.\n",
        "* Partner_Yes (-0.150448): Clientes com parceiro têm menor probabilidade de cancelar.\n",
        "\n",
        "Além disso, trouxe outros pontos que não foram tratados:\n",
        "\n",
        "* PaymentMethod_Electronic check (0.301919): Clientes que pagam via cheque eletrônico têm maior probabilidade de cancelar.\n",
        "* PaperlessBilling_Yes (0.191825): Clientes que optam pela fatura sem papel têm maior probabilidade de cancelar.\n",
        "\n",
        "\n",
        "Olhando para essas novas descobertas temos mais 2 pontos de atenção, o método de recebimento da fatura e a forma de pagamento da mesma."
      ],
      "metadata": {
        "id": "V0SaaZAUW8D2"
      }
    },
    {
      "cell_type": "markdown",
      "source": [
        "#**Conclusão**"
      ],
      "metadata": {
        "id": "zvPaUJGRvr8G"
      }
    },
    {
      "cell_type": "markdown",
      "source": [
        "Com essa análise de dados podemos afirmar algumas coisas sobre o perfil dos cancelamentos e ações que podem ser tomadas para evitar a quantidade de churn\n",
        "\n",
        "* O percentual de cancelamento atual é de 26,54%, ou seja, atualmente temos uma situação  em que 1 a cada 4 clientes acabam cancelando o serviço.\n",
        "\n",
        "* Em relação ao perfil dos clientes que cancelaram podemos afirmar que quem tem dependentes tende a ter uma menor taxa de cancelamentos. Também existe uma tendência maior de cancelamento entre os idosos.\n",
        "\n",
        "* Em relação aos serviços as maiores taxas de cancelamentos estão nos serviços de:\n",
        "\n",
        "-Streaming de TV (30,07% de cancelamentos)\n",
        "\n",
        "-Streaming de filmes (29,94% de cancelamentos)\n",
        "\n",
        "-Serviço de telefone (26,71% de cancelamentos)\n",
        "\n",
        "Olhando para esses serviços específicos poderiamos realizar uma pesquisa com os clientes sobre a qualidade do catálogo dos streamings e buscar identificar quais conteúdos/ gêneros são mais assistidos e quais não são e assim focar nossas ações para conteúdos com mais acessos.\n",
        "\n",
        "Já no serviço de telefonia podemos realizar uma pesquisa sobre as principais reclamações sobre o serviço e buscar formas de melhorar nosso atendimento.\n",
        "\n",
        "Olhando para o serviço de internet vemos que em termos percentuais a fibra ótica tem uma quantidade maior de cancelamentos (41,89%) apesar de ser um serviço que tende a ser de melhor qualidade, isso aponta para uma insuficiencia na estrutura para atender todas as áreas de cobertura. O que podemos fazer é realizar um mapeamento dos serviços por área e levantar pontos críticos que precisam ter sua estrutura melhorada.\n",
        "\n",
        "* Como era a hipótese, o número de cancelamentos diminui conforme o tempo de contrato aumenta.\n",
        "\n",
        "O que poderiamos fazer é oferecer planos de fidelidade para aumentar o tempo que os clientes permanecem com o nosso serviço.\n",
        "\n",
        "* Vemos também que a maior parte dos cancelamentos vêm de clientes que não entraram em contato com o suporte técnico, isso pode significar 2 coisas:\n",
        "\n",
        "I) Os clientes precisam de suporte mas não tem acesso a ele, pode ser por desconhecerem os canais ou por congestionamento na central o que faz com que o cliente desista de esperar\n",
        "\n",
        "II) Os problemas que levam ao cancelamento não são de natureza técnica\n",
        "\n",
        "* A hipótese 5 foi confirmada, quem cancelou em média paga mais do que quem não cancelou\n",
        "\n",
        "* A análise de correlação confirmou alguns pontos já tratados e trouxe outros dois problemas que são:\n",
        "  \n",
        "    -Pagamento via chegue via eletrônico: a solução aqui seria estimular os clientes a buscarem meios de pagamento melhores e/ou melhorar o sistema entorno dessa funcionalidade\n",
        "    \n",
        "    -Fatura sem papel: também está relacionado aos pagamentos, isso pode apontar para um problema entorno desses serviços o que torna ainda mais necessário a realização de correções de estrutura e de software nesse sentido"
      ],
      "metadata": {
        "id": "UxTrlwXwvw-C"
      }
    }
  ]
}